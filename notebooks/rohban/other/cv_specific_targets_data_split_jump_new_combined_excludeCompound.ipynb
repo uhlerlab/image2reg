{
 "cells": [
  {
   "cell_type": "markdown",
   "id": "4ee533fa",
   "metadata": {},
   "source": [
    "# Data split for the 4-fold CV\n",
    "\n",
    "---\n",
    "\n",
    "This notebook can be used to generate data splits for the screening data to allow for parallel computing of the screens.\n",
    "\n",
    "---"
   ]
  },
  {
   "cell_type": "markdown",
   "id": "20f2592e",
   "metadata": {},
   "source": [
    "## 0. Environmental setup"
   ]
  },
  {
   "cell_type": "code",
   "execution_count": 1,
   "id": "cc24984d",
   "metadata": {},
   "outputs": [],
   "source": [
    "import pandas as pd\n",
    "import numpy as np\n",
    "from sklearn.model_selection import StratifiedGroupKFold, GroupShuffleSplit\n",
    "import os\n",
    "from imblearn.under_sampling import RandomUnderSampler\n",
    "from tqdm import tqdm\n",
    "from collections import Counter\n",
    "from matplotlib import pyplot as plt"
   ]
  },
  {
   "cell_type": "markdown",
   "id": "982ef064",
   "metadata": {},
   "source": [
    "---\n",
    "## 1. Read in data\n",
    "\n",
    "To start we will read in the whole metadata set."
   ]
  },
  {
   "cell_type": "code",
   "execution_count": 2,
   "id": "2b0ae6ed",
   "metadata": {},
   "outputs": [
    {
     "data": {
      "text/html": [
       "<div>\n",
       "<style scoped>\n",
       "    .dataframe tbody tr th:only-of-type {\n",
       "        vertical-align: middle;\n",
       "    }\n",
       "\n",
       "    .dataframe tbody tr th {\n",
       "        vertical-align: top;\n",
       "    }\n",
       "\n",
       "    .dataframe thead th {\n",
       "        text-align: right;\n",
       "    }\n",
       "</style>\n",
       "<table border=\"1\" class=\"dataframe\">\n",
       "  <thead>\n",
       "    <tr style=\"text-align: right;\">\n",
       "      <th></th>\n",
       "      <th>source</th>\n",
       "      <th>batch</th>\n",
       "      <th>plate</th>\n",
       "      <th>well</th>\n",
       "      <th>site</th>\n",
       "      <th>image_file</th>\n",
       "      <th>gene_symbol</th>\n",
       "      <th>bb_width</th>\n",
       "      <th>bb_height</th>\n",
       "      <th>minor_axis_length</th>\n",
       "      <th>major_axis_length</th>\n",
       "      <th>aspect_ratio</th>\n",
       "      <th>aspect_ratio_cluster</th>\n",
       "      <th>nuclei_count_image</th>\n",
       "      <th>slide_image_name</th>\n",
       "      <th>aspect_ratio_cluster_ratio</th>\n",
       "      <th>centroid_0</th>\n",
       "      <th>centroid_1</th>\n",
       "    </tr>\n",
       "  </thead>\n",
       "  <tbody>\n",
       "    <tr>\n",
       "      <th>0</th>\n",
       "      <td>source_13</td>\n",
       "      <td>20220914_Run1</td>\n",
       "      <td>CP-CC9-R1-03</td>\n",
       "      <td>N22</td>\n",
       "      <td>1</td>\n",
       "      <td>source_13_20220914_Run1_CP-CC9-R1-03_N22_1_ALO...</td>\n",
       "      <td>ALOX5</td>\n",
       "      <td>34</td>\n",
       "      <td>21</td>\n",
       "      <td>18.152311</td>\n",
       "      <td>36.641606</td>\n",
       "      <td>0.495402</td>\n",
       "      <td>0</td>\n",
       "      <td>151</td>\n",
       "      <td>source_13_20220914_Run1_CP-CC9-R1-03_N22_1_ALO...</td>\n",
       "      <td>NaN</td>\n",
       "      <td>29.588694</td>\n",
       "      <td>207.678363</td>\n",
       "    </tr>\n",
       "    <tr>\n",
       "      <th>1</th>\n",
       "      <td>source_13</td>\n",
       "      <td>20220914_Run1</td>\n",
       "      <td>CP-CC9-R1-03</td>\n",
       "      <td>N22</td>\n",
       "      <td>1</td>\n",
       "      <td>source_13_20220914_Run1_CP-CC9-R1-03_N22_1_ALO...</td>\n",
       "      <td>ALOX5</td>\n",
       "      <td>24</td>\n",
       "      <td>32</td>\n",
       "      <td>20.726421</td>\n",
       "      <td>33.983415</td>\n",
       "      <td>0.609898</td>\n",
       "      <td>0</td>\n",
       "      <td>151</td>\n",
       "      <td>source_13_20220914_Run1_CP-CC9-R1-03_N22_1_ALO...</td>\n",
       "      <td>NaN</td>\n",
       "      <td>42.947177</td>\n",
       "      <td>1229.174863</td>\n",
       "    </tr>\n",
       "    <tr>\n",
       "      <th>2</th>\n",
       "      <td>source_13</td>\n",
       "      <td>20220914_Run1</td>\n",
       "      <td>CP-CC9-R1-03</td>\n",
       "      <td>N22</td>\n",
       "      <td>1</td>\n",
       "      <td>source_13_20220914_Run1_CP-CC9-R1-03_N22_1_ALO...</td>\n",
       "      <td>ALOX5</td>\n",
       "      <td>32</td>\n",
       "      <td>39</td>\n",
       "      <td>28.960515</td>\n",
       "      <td>41.599552</td>\n",
       "      <td>0.696174</td>\n",
       "      <td>1</td>\n",
       "      <td>151</td>\n",
       "      <td>source_13_20220914_Run1_CP-CC9-R1-03_N22_1_ALO...</td>\n",
       "      <td>NaN</td>\n",
       "      <td>80.714286</td>\n",
       "      <td>1196.022222</td>\n",
       "    </tr>\n",
       "    <tr>\n",
       "      <th>3</th>\n",
       "      <td>source_13</td>\n",
       "      <td>20220914_Run1</td>\n",
       "      <td>CP-CC9-R1-03</td>\n",
       "      <td>N22</td>\n",
       "      <td>1</td>\n",
       "      <td>source_13_20220914_Run1_CP-CC9-R1-03_N22_1_ALO...</td>\n",
       "      <td>ALOX5</td>\n",
       "      <td>22</td>\n",
       "      <td>35</td>\n",
       "      <td>22.335351</td>\n",
       "      <td>35.301121</td>\n",
       "      <td>0.632709</td>\n",
       "      <td>0</td>\n",
       "      <td>151</td>\n",
       "      <td>source_13_20220914_Run1_CP-CC9-R1-03_N22_1_ALO...</td>\n",
       "      <td>NaN</td>\n",
       "      <td>87.434572</td>\n",
       "      <td>1124.943457</td>\n",
       "    </tr>\n",
       "    <tr>\n",
       "      <th>4</th>\n",
       "      <td>source_13</td>\n",
       "      <td>20220914_Run1</td>\n",
       "      <td>CP-CC9-R1-03</td>\n",
       "      <td>N22</td>\n",
       "      <td>1</td>\n",
       "      <td>source_13_20220914_Run1_CP-CC9-R1-03_N22_1_ALO...</td>\n",
       "      <td>ALOX5</td>\n",
       "      <td>29</td>\n",
       "      <td>52</td>\n",
       "      <td>25.967213</td>\n",
       "      <td>55.164771</td>\n",
       "      <td>0.470721</td>\n",
       "      <td>0</td>\n",
       "      <td>151</td>\n",
       "      <td>source_13_20220914_Run1_CP-CC9-R1-03_N22_1_ALO...</td>\n",
       "      <td>NaN</td>\n",
       "      <td>92.285843</td>\n",
       "      <td>189.496844</td>\n",
       "    </tr>\n",
       "  </tbody>\n",
       "</table>\n",
       "</div>"
      ],
      "text/plain": [
       "      source          batch         plate well  site  \\\n",
       "0  source_13  20220914_Run1  CP-CC9-R1-03  N22     1   \n",
       "1  source_13  20220914_Run1  CP-CC9-R1-03  N22     1   \n",
       "2  source_13  20220914_Run1  CP-CC9-R1-03  N22     1   \n",
       "3  source_13  20220914_Run1  CP-CC9-R1-03  N22     1   \n",
       "4  source_13  20220914_Run1  CP-CC9-R1-03  N22     1   \n",
       "\n",
       "                                          image_file gene_symbol  bb_width  \\\n",
       "0  source_13_20220914_Run1_CP-CC9-R1-03_N22_1_ALO...       ALOX5        34   \n",
       "1  source_13_20220914_Run1_CP-CC9-R1-03_N22_1_ALO...       ALOX5        24   \n",
       "2  source_13_20220914_Run1_CP-CC9-R1-03_N22_1_ALO...       ALOX5        32   \n",
       "3  source_13_20220914_Run1_CP-CC9-R1-03_N22_1_ALO...       ALOX5        22   \n",
       "4  source_13_20220914_Run1_CP-CC9-R1-03_N22_1_ALO...       ALOX5        29   \n",
       "\n",
       "   bb_height  minor_axis_length  major_axis_length  aspect_ratio  \\\n",
       "0         21          18.152311          36.641606      0.495402   \n",
       "1         32          20.726421          33.983415      0.609898   \n",
       "2         39          28.960515          41.599552      0.696174   \n",
       "3         35          22.335351          35.301121      0.632709   \n",
       "4         52          25.967213          55.164771      0.470721   \n",
       "\n",
       "   aspect_ratio_cluster  nuclei_count_image  \\\n",
       "0                     0                 151   \n",
       "1                     0                 151   \n",
       "2                     1                 151   \n",
       "3                     0                 151   \n",
       "4                     0                 151   \n",
       "\n",
       "                                    slide_image_name  \\\n",
       "0  source_13_20220914_Run1_CP-CC9-R1-03_N22_1_ALO...   \n",
       "1  source_13_20220914_Run1_CP-CC9-R1-03_N22_1_ALO...   \n",
       "2  source_13_20220914_Run1_CP-CC9-R1-03_N22_1_ALO...   \n",
       "3  source_13_20220914_Run1_CP-CC9-R1-03_N22_1_ALO...   \n",
       "4  source_13_20220914_Run1_CP-CC9-R1-03_N22_1_ALO...   \n",
       "\n",
       "   aspect_ratio_cluster_ratio  centroid_0   centroid_1  \n",
       "0                         NaN   29.588694   207.678363  \n",
       "1                         NaN   42.947177  1229.174863  \n",
       "2                         NaN   80.714286  1196.022222  \n",
       "3                         NaN   87.434572  1124.943457  \n",
       "4                         NaN   92.285843   189.496844  "
      ]
     },
     "execution_count": 2,
     "metadata": {},
     "output_type": "execute_result"
    }
   ],
   "source": [
    "md_ko = pd.read_csv(\n",
    "    \"/data/xinyi/image2reg/data_new/experiments/jump/images/preprocessing/full_pipeline/20241018_015541/padded_nuclei_metadata_fileExists.csv.gz\",\n",
    "    index_col=0,\n",
    ")\n",
    "md_ko.head()"
   ]
  },
  {
   "cell_type": "code",
   "execution_count": 3,
   "id": "590f9ace-d49b-4d4a-b35e-035be2d18404",
   "metadata": {},
   "outputs": [
    {
     "data": {
      "text/html": [
       "<div>\n",
       "<style scoped>\n",
       "    .dataframe tbody tr th:only-of-type {\n",
       "        vertical-align: middle;\n",
       "    }\n",
       "\n",
       "    .dataframe tbody tr th {\n",
       "        vertical-align: top;\n",
       "    }\n",
       "\n",
       "    .dataframe thead th {\n",
       "        text-align: right;\n",
       "    }\n",
       "</style>\n",
       "<table border=\"1\" class=\"dataframe\">\n",
       "  <thead>\n",
       "    <tr style=\"text-align: right;\">\n",
       "      <th></th>\n",
       "      <th>source</th>\n",
       "      <th>batch</th>\n",
       "      <th>plate</th>\n",
       "      <th>well</th>\n",
       "      <th>site</th>\n",
       "      <th>image_file</th>\n",
       "      <th>gene_symbol</th>\n",
       "      <th>bb_width</th>\n",
       "      <th>bb_height</th>\n",
       "      <th>minor_axis_length</th>\n",
       "      <th>major_axis_length</th>\n",
       "      <th>aspect_ratio</th>\n",
       "      <th>aspect_ratio_cluster</th>\n",
       "      <th>nuclei_count_image</th>\n",
       "      <th>slide_image_name</th>\n",
       "      <th>aspect_ratio_cluster_ratio</th>\n",
       "      <th>centroid_0</th>\n",
       "      <th>centroid_1</th>\n",
       "    </tr>\n",
       "  </thead>\n",
       "  <tbody>\n",
       "    <tr>\n",
       "      <th>0</th>\n",
       "      <td>source_7</td>\n",
       "      <td>20210719_Run1</td>\n",
       "      <td>CP1-SC1-06</td>\n",
       "      <td>J08</td>\n",
       "      <td>1</td>\n",
       "      <td>source_7_20210719_Run1_CP1-SC1-06_J08_1_APPBP2...</td>\n",
       "      <td>APPBP2</td>\n",
       "      <td>27</td>\n",
       "      <td>32</td>\n",
       "      <td>27.263139</td>\n",
       "      <td>33.298781</td>\n",
       "      <td>0.818743</td>\n",
       "      <td>0</td>\n",
       "      <td>202</td>\n",
       "      <td>source_7_20210719_Run1_CP1-SC1-06_J08_1_APPBP2...</td>\n",
       "      <td>NaN</td>\n",
       "      <td>22.942335</td>\n",
       "      <td>1232.897328</td>\n",
       "    </tr>\n",
       "    <tr>\n",
       "      <th>1</th>\n",
       "      <td>source_7</td>\n",
       "      <td>20210719_Run1</td>\n",
       "      <td>CP1-SC1-06</td>\n",
       "      <td>J08</td>\n",
       "      <td>1</td>\n",
       "      <td>source_7_20210719_Run1_CP1-SC1-06_J08_1_APPBP2...</td>\n",
       "      <td>APPBP2</td>\n",
       "      <td>35</td>\n",
       "      <td>19</td>\n",
       "      <td>18.711072</td>\n",
       "      <td>36.371191</td>\n",
       "      <td>0.514448</td>\n",
       "      <td>1</td>\n",
       "      <td>202</td>\n",
       "      <td>source_7_20210719_Run1_CP1-SC1-06_J08_1_APPBP2...</td>\n",
       "      <td>NaN</td>\n",
       "      <td>29.754753</td>\n",
       "      <td>552.490494</td>\n",
       "    </tr>\n",
       "    <tr>\n",
       "      <th>2</th>\n",
       "      <td>source_7</td>\n",
       "      <td>20210719_Run1</td>\n",
       "      <td>CP1-SC1-06</td>\n",
       "      <td>J08</td>\n",
       "      <td>1</td>\n",
       "      <td>source_7_20210719_Run1_CP1-SC1-06_J08_1_APPBP2...</td>\n",
       "      <td>APPBP2</td>\n",
       "      <td>28</td>\n",
       "      <td>30</td>\n",
       "      <td>23.319638</td>\n",
       "      <td>33.555792</td>\n",
       "      <td>0.694951</td>\n",
       "      <td>0</td>\n",
       "      <td>202</td>\n",
       "      <td>source_7_20210719_Run1_CP1-SC1-06_J08_1_APPBP2...</td>\n",
       "      <td>NaN</td>\n",
       "      <td>29.530945</td>\n",
       "      <td>840.661238</td>\n",
       "    </tr>\n",
       "    <tr>\n",
       "      <th>3</th>\n",
       "      <td>source_7</td>\n",
       "      <td>20210719_Run1</td>\n",
       "      <td>CP1-SC1-06</td>\n",
       "      <td>J08</td>\n",
       "      <td>1</td>\n",
       "      <td>source_7_20210719_Run1_CP1-SC1-06_J08_1_APPBP2...</td>\n",
       "      <td>APPBP2</td>\n",
       "      <td>34</td>\n",
       "      <td>27</td>\n",
       "      <td>22.989829</td>\n",
       "      <td>36.280641</td>\n",
       "      <td>0.633667</td>\n",
       "      <td>0</td>\n",
       "      <td>202</td>\n",
       "      <td>source_7_20210719_Run1_CP1-SC1-06_J08_1_APPBP2...</td>\n",
       "      <td>NaN</td>\n",
       "      <td>37.877301</td>\n",
       "      <td>881.897239</td>\n",
       "    </tr>\n",
       "    <tr>\n",
       "      <th>4</th>\n",
       "      <td>source_7</td>\n",
       "      <td>20210719_Run1</td>\n",
       "      <td>CP1-SC1-06</td>\n",
       "      <td>J08</td>\n",
       "      <td>1</td>\n",
       "      <td>source_7_20210719_Run1_CP1-SC1-06_J08_1_APPBP2...</td>\n",
       "      <td>APPBP2</td>\n",
       "      <td>29</td>\n",
       "      <td>34</td>\n",
       "      <td>26.717761</td>\n",
       "      <td>36.065574</td>\n",
       "      <td>0.740811</td>\n",
       "      <td>0</td>\n",
       "      <td>202</td>\n",
       "      <td>source_7_20210719_Run1_CP1-SC1-06_J08_1_APPBP2...</td>\n",
       "      <td>NaN</td>\n",
       "      <td>36.644180</td>\n",
       "      <td>994.552910</td>\n",
       "    </tr>\n",
       "  </tbody>\n",
       "</table>\n",
       "</div>"
      ],
      "text/plain": [
       "     source          batch       plate well  site  \\\n",
       "0  source_7  20210719_Run1  CP1-SC1-06  J08     1   \n",
       "1  source_7  20210719_Run1  CP1-SC1-06  J08     1   \n",
       "2  source_7  20210719_Run1  CP1-SC1-06  J08     1   \n",
       "3  source_7  20210719_Run1  CP1-SC1-06  J08     1   \n",
       "4  source_7  20210719_Run1  CP1-SC1-06  J08     1   \n",
       "\n",
       "                                          image_file gene_symbol  bb_width  \\\n",
       "0  source_7_20210719_Run1_CP1-SC1-06_J08_1_APPBP2...      APPBP2        27   \n",
       "1  source_7_20210719_Run1_CP1-SC1-06_J08_1_APPBP2...      APPBP2        35   \n",
       "2  source_7_20210719_Run1_CP1-SC1-06_J08_1_APPBP2...      APPBP2        28   \n",
       "3  source_7_20210719_Run1_CP1-SC1-06_J08_1_APPBP2...      APPBP2        34   \n",
       "4  source_7_20210719_Run1_CP1-SC1-06_J08_1_APPBP2...      APPBP2        29   \n",
       "\n",
       "   bb_height  minor_axis_length  major_axis_length  aspect_ratio  \\\n",
       "0         32          27.263139          33.298781      0.818743   \n",
       "1         19          18.711072          36.371191      0.514448   \n",
       "2         30          23.319638          33.555792      0.694951   \n",
       "3         27          22.989829          36.280641      0.633667   \n",
       "4         34          26.717761          36.065574      0.740811   \n",
       "\n",
       "   aspect_ratio_cluster  nuclei_count_image  \\\n",
       "0                     0                 202   \n",
       "1                     1                 202   \n",
       "2                     0                 202   \n",
       "3                     0                 202   \n",
       "4                     0                 202   \n",
       "\n",
       "                                    slide_image_name  \\\n",
       "0  source_7_20210719_Run1_CP1-SC1-06_J08_1_APPBP2...   \n",
       "1  source_7_20210719_Run1_CP1-SC1-06_J08_1_APPBP2...   \n",
       "2  source_7_20210719_Run1_CP1-SC1-06_J08_1_APPBP2...   \n",
       "3  source_7_20210719_Run1_CP1-SC1-06_J08_1_APPBP2...   \n",
       "4  source_7_20210719_Run1_CP1-SC1-06_J08_1_APPBP2...   \n",
       "\n",
       "   aspect_ratio_cluster_ratio  centroid_0   centroid_1  \n",
       "0                         NaN   22.942335  1232.897328  \n",
       "1                         NaN   29.754753   552.490494  \n",
       "2                         NaN   29.530945   840.661238  \n",
       "3                         NaN   37.877301   881.897239  \n",
       "4                         NaN   36.644180   994.552910  "
      ]
     },
     "execution_count": 3,
     "metadata": {},
     "output_type": "execute_result"
    }
   ],
   "source": [
    "md_compound = pd.read_csv(\n",
    "    \"/data/xinyi/image2reg/data_new/experiments/jump_compound/images/preprocessing/full_pipeline/20241025_161036/padded_nuclei_metadata_fileExists.csv.gz\",\n",
    "    index_col=0,\n",
    ")\n",
    "md_compound.head()"
   ]
  },
  {
   "cell_type": "code",
   "execution_count": 4,
   "id": "a53d432a",
   "metadata": {},
   "outputs": [],
   "source": [
    "spec_results = pd.read_csv(\n",
    "    \"/data/xinyi/image2reg/data_new/experiments/jump/images/screen/nuclei_region/specificity_screen_results_cv.csv\",\n",
    "    index_col=0,\n",
    ")\n",
    "spec_results = spec_results.loc[spec_results[\"selected\"]]\n",
    "spec_orf_targets = set(spec_results.index)\n",
    "# .union(\n",
    "#     set([\"CCNE1\", \"CDK2\", \"GSK3B\", \"MAPK8\", \"PRKCA\", \"RPS6KB1\", \"TCF4\", \"TGFB1\"])\n",
    "# )"
   ]
  },
  {
   "cell_type": "code",
   "execution_count": 5,
   "id": "fcd45c78-4643-4fca-8c56-b104b91e5383",
   "metadata": {},
   "outputs": [
    {
     "data": {
      "text/plain": [
       "{'ALOX5',\n",
       " 'ATF4',\n",
       " 'AURKA',\n",
       " 'AURKB',\n",
       " 'AXL',\n",
       " 'BAX',\n",
       " 'BCL2L11',\n",
       " 'BIRC5',\n",
       " 'BMP4',\n",
       " 'BRAF',\n",
       " 'BUB1',\n",
       " 'CASP8',\n",
       " 'CCNA2',\n",
       " 'CCNB1',\n",
       " 'CCNB2',\n",
       " 'CCND2',\n",
       " 'CCNE1',\n",
       " 'CCNF',\n",
       " 'CD40',\n",
       " 'CDC42',\n",
       " 'CDC6',\n",
       " 'CDCA3',\n",
       " 'CDK1',\n",
       " 'CDK14',\n",
       " 'CDK2',\n",
       " 'CDK6',\n",
       " 'CEBPA',\n",
       " 'CENPE',\n",
       " 'CKS2',\n",
       " 'CREB1',\n",
       " 'CYBA',\n",
       " 'DHRS2',\n",
       " 'E2F1',\n",
       " 'EEF1A2',\n",
       " 'FEN1',\n",
       " 'FGF1',\n",
       " 'FGFR3',\n",
       " 'FKBP4',\n",
       " 'FN1',\n",
       " 'FOS',\n",
       " 'FOXO1',\n",
       " 'GLI1',\n",
       " 'GLI2',\n",
       " 'GSK3B',\n",
       " 'GTSE1',\n",
       " 'HK2',\n",
       " 'HRAS',\n",
       " 'HSPA1B',\n",
       " 'IGF2',\n",
       " 'INHBA',\n",
       " 'IRAK4',\n",
       " 'IRF7',\n",
       " 'JUN',\n",
       " 'KIF15',\n",
       " 'KIF23',\n",
       " 'KIF2C',\n",
       " 'KIF4A',\n",
       " 'KLK6',\n",
       " 'KPNA2',\n",
       " 'KRT8',\n",
       " 'LOXL4',\n",
       " 'LRP1',\n",
       " 'MAP3K2',\n",
       " 'MAP3K5',\n",
       " 'MAP3K9',\n",
       " 'MAPK7',\n",
       " 'MAPK8',\n",
       " 'MCM3',\n",
       " 'MCM4',\n",
       " 'MCM5',\n",
       " 'MCM7',\n",
       " 'MDK',\n",
       " 'MMP2',\n",
       " 'MSH2',\n",
       " 'MYBL2',\n",
       " 'MYC',\n",
       " 'MYH9',\n",
       " 'NCF2',\n",
       " 'NCOR2',\n",
       " 'NEK2',\n",
       " 'NOTCH3',\n",
       " 'PAK2',\n",
       " 'PARP2',\n",
       " 'PCNA',\n",
       " 'PIK3R2',\n",
       " 'PLCB2',\n",
       " 'PLCG1',\n",
       " 'PLK1',\n",
       " 'PRKACA',\n",
       " 'PRKCA',\n",
       " 'RARA',\n",
       " 'RELB',\n",
       " 'RHOA',\n",
       " 'RPS6KB1',\n",
       " 'RRM2',\n",
       " 'SKP2',\n",
       " 'SMO',\n",
       " 'SREBF1',\n",
       " 'TGFB1',\n",
       " 'TGM2',\n",
       " 'THRA',\n",
       " 'TIMP1',\n",
       " 'TINAGL1',\n",
       " 'TNC',\n",
       " 'TONSL',\n",
       " 'TP73',\n",
       " 'TPM1',\n",
       " 'TRAF2',\n",
       " 'TRIB3',\n",
       " 'TSC2',\n",
       " 'TTK',\n",
       " 'TUBB6',\n",
       " 'UBE2C',\n",
       " 'UBE2S',\n",
       " 'WEE1',\n",
       " 'WWTR1',\n",
       " 'YWHAQ'}"
      ]
     },
     "execution_count": 5,
     "metadata": {},
     "output_type": "execute_result"
    }
   ],
   "source": [
    "spec_orf_targets"
   ]
  },
  {
   "cell_type": "markdown",
   "id": "8a2f56a1",
   "metadata": {},
   "source": [
    "---\n",
    "\n",
    "## 2. StratifiedGrouped K-Fold\n",
    "\n",
    "We will now go over each individual gene and add a column to the dataframe that indicates to which fold of the respective gene screen the respective nuclei corresponds to. Thereby, we will ensure that all nuclei from the same slide-image are in the same fold to ensure that the model cannot cheat by focussing on imaging artifacts specific to individual slide images."
   ]
  },
  {
   "cell_type": "code",
   "execution_count": 6,
   "id": "0e1d44fc",
   "metadata": {},
   "outputs": [],
   "source": [
    "output_dir = \"/data/xinyi/image2reg/data_new/experiments/jump/images/preprocessing/specific_targets_combined_excludeCompound/\"\n",
    "os.makedirs(output_dir, exist_ok=True)"
   ]
  },
  {
   "cell_type": "code",
   "execution_count": 8,
   "id": "f2dc58f0",
   "metadata": {},
   "outputs": [],
   "source": [
    "label_col = \"gene_symbol\"\n",
    "group_col = \"slide_image_name\"\n",
    "random_state = 1234\n",
    "# n_folds = 5\n",
    "val_size=0.1\n",
    "test_size=0.05\n",
    "\n",
    "labels_all =np.copy(md_ko.loc[:, label_col])\n",
    "labels_all[labels_all=='non-targeting']='NC'\n",
    "labels_all[labels_all=='no-guide']='NC'\n",
    "md_ko[label_col]=labels_all"
   ]
  },
  {
   "cell_type": "code",
   "execution_count": 10,
   "id": "6fdf6313-68a5-45b0-b6c6-a3aeb722fa6f",
   "metadata": {},
   "outputs": [
    {
     "data": {
      "text/plain": [
       "1749"
      ]
     },
     "execution_count": 10,
     "metadata": {},
     "output_type": "execute_result"
    }
   ],
   "source": [
    "_,gcounts=np.unique(labels_all[labels_all!='NC'],return_counts=True)\n",
    "np.min(gcounts)"
   ]
  },
  {
   "cell_type": "code",
   "execution_count": 11,
   "id": "b1de9af2-a2d4-4aba-9309-6ccb9e057d88",
   "metadata": {},
   "outputs": [
    {
     "data": {
      "text/plain": [
       "(array([ 5.,  4.,  5., 10., 25., 53., 30.,  6.,  3.,  2.,  1.,  0.,  0.,\n",
       "         0.,  0.,  0.,  1.,  1.,  0.,  0.,  0.,  0.,  0.,  0.,  0.,  0.,\n",
       "         0.,  0.,  0.,  0.,  0.,  0.,  0.,  0.,  0.,  0.,  0.,  0.,  0.,\n",
       "         0.,  0.,  0.,  0.,  0.,  0.,  0.,  0.,  0.,  0.,  1.]),\n",
       " array([ 1749.  ,  3436.04,  5123.08,  6810.12,  8497.16, 10184.2 ,\n",
       "        11871.24, 13558.28, 15245.32, 16932.36, 18619.4 , 20306.44,\n",
       "        21993.48, 23680.52, 25367.56, 27054.6 , 28741.64, 30428.68,\n",
       "        32115.72, 33802.76, 35489.8 , 37176.84, 38863.88, 40550.92,\n",
       "        42237.96, 43925.  , 45612.04, 47299.08, 48986.12, 50673.16,\n",
       "        52360.2 , 54047.24, 55734.28, 57421.32, 59108.36, 60795.4 ,\n",
       "        62482.44, 64169.48, 65856.52, 67543.56, 69230.6 , 70917.64,\n",
       "        72604.68, 74291.72, 75978.76, 77665.8 , 79352.84, 81039.88,\n",
       "        82726.92, 84413.96, 86101.  ]),\n",
       " <BarContainer object of 50 artists>)"
      ]
     },
     "execution_count": 11,
     "metadata": {},
     "output_type": "execute_result"
    },
    {
     "data": {
      "image/png": "[encoded data removed]",
      "text/plain": [
       "<Figure size 640x480 with 1 Axes>"
      ]
     },
     "metadata": {},
     "output_type": "display_data"
    }
   ],
   "source": [
    "plt.hist(gcounts,bins=50)"
   ]
  },
  {
   "cell_type": "code",
   "execution_count": 12,
   "id": "9a1ba7d6-0170-430b-9b77-73e20a497f3e",
   "metadata": {},
   "outputs": [
    {
     "data": {
      "text/plain": [
       "array(['APPBP2', 'AQP1', 'AURKA', 'AURKB', 'BIRC5', 'CCNA2', 'CDK1',\n",
       "       'CDK2', 'CDK6', 'DMSO', 'EEF1A2', 'FGF1', 'FGFR2', 'FGFR3',\n",
       "       'GABRB3', 'GSK3B', 'LGALS1', 'MAP3K2', 'MAP3K5', 'MAP3K9', 'MAPK8',\n",
       "       'PARP2', 'PCNA', 'PDGFRB', 'PLAT', 'PRKACA', 'RARA', 'THRA', 'TK1',\n",
       "       'TLR4', 'TNNC1'], dtype=object)"
      ]
     },
     "execution_count": 12,
     "metadata": {},
     "output_type": "execute_result"
    }
   ],
   "source": [
    "np.unique(md_compound.gene_symbol)"
   ]
  },
  {
   "cell_type": "code",
   "execution_count": 16,
   "id": "781c0e78",
   "metadata": {},
   "outputs": [
    {
     "name": "stdout",
     "output_type": "stream",
     "text": [
      "['ALOX5', 'ATF4', 'AXL', 'BAX', 'BCL2L11', 'BMP4', 'BRAF', 'BUB1', 'CASP8', 'CCNB1', 'CCNB2', 'CCND2', 'CCNE1', 'CCNF', 'CD40', 'CDC42', 'CDC6', 'CDCA3', 'CDK14', 'CEBPA', 'CENPE', 'CKS2', 'CREB1', 'CYBA', 'DHRS2', 'E2F1', 'FEN1', 'FKBP4', 'FN1', 'FOS', 'FOXO1', 'GLI1', 'GLI2', 'GTSE1', 'HK2', 'HRAS', 'HSPA1B', 'IGF2', 'INHBA', 'IRAK4', 'IRF7', 'JUN', 'KIF15', 'KIF23', 'KIF2C', 'KIF4A', 'KLK6', 'KPNA2', 'KRT8', 'LOXL4', 'LRP1', 'MAPK7', 'MCM3', 'MCM4', 'MCM5', 'MCM7', 'MDK', 'MMP2', 'MSH2', 'MYBL2', 'MYC', 'MYH9', 'NC', 'NCF2', 'NCOR2', 'NEK2', 'NOTCH3', 'PAK2', 'PIK3R2', 'PLCB2', 'PLCG1', 'PLK1', 'PRKCA', 'RELB', 'RHOA', 'RPS6KB1', 'RRM2', 'SKP2', 'SMO', 'SREBF1', 'TGFB1', 'TGM2', 'TIMP1', 'TINAGL1', 'TNC', 'TONSL', 'TP73', 'TPM1', 'TRAF2', 'TRIB3', 'TSC2', 'TTK', 'TUBB6', 'UBE2C', 'UBE2S', 'WEE1', 'WWTR1', 'YWHAQ']\n",
      "{'ALOX5': 11641, 'ATF4': 8318, 'AXL': 9626, 'BAX': 11416, 'BCL2L11': 8782, 'BMP4': 11742, 'BRAF': 11327, 'BUB1': 9437, 'CASP8': 15245, 'CCNB1': 8407, 'CCNB2': 9897, 'CCND2': 9340, 'CCNE1': 7129, 'CCNF': 11255, 'CD40': 12322, 'CDC42': 8975, 'CDC6': 2718, 'CDCA3': 8545, 'CDK14': 12326, 'CEBPA': 10427, 'CENPE': 4379, 'CKS2': 11380, 'CREB1': 11188, 'CYBA': 10819, 'DHRS2': 10935, 'E2F1': 10802, 'FEN1': 10792, 'FKBP4': 11587, 'FN1': 12857, 'FOS': 13129, 'FOXO1': 12385, 'GLI1': 10716, 'GLI2': 6866, 'GTSE1': 10637, 'HK2': 8923, 'HRAS': 12069, 'HSPA1B': 9592, 'IGF2': 12734, 'INHBA': 11727, 'IRAK4': 8569, 'IRF7': 8023, 'JUN': 10189, 'KIF15': 12463, 'KIF23': 4361, 'KIF2C': 10676, 'KIF4A': 11116, 'KLK6': 12068, 'KPNA2': 9754, 'KRT8': 13400, 'LOXL4': 11170, 'LRP1': 10523, 'MAPK7': 11389, 'MCM3': 10974, 'MCM4': 11055, 'MCM5': 10290, 'MCM7': 9194, 'MDK': 7878, 'MMP2': 10800, 'MSH2': 9141, 'MYBL2': 6470, 'MYC': 6768, 'MYH9': 11030, 'NCF2': 10480, 'NCOR2': 11361, 'NEK2': 9041, 'NOTCH3': 9711, 'PAK2': 10715, 'PIK3R2': 10884, 'PLCB2': 12767, 'PLCG1': 13098, 'PLK1': 15245, 'PRKCA': 12129, 'RELB': 9460, 'RHOA': 11348, 'RPS6KB1': 8725, 'RRM2': 2514, 'SKP2': 9818, 'SMO': 11334, 'SREBF1': 8803, 'TGFB1': 11593, 'TGM2': 11838, 'TIMP1': 11465, 'TINAGL1': 11052, 'TNC': 11942, 'TONSL': 7736, 'TP73': 15245, 'TPM1': 13396, 'TRAF2': 11859, 'TRIB3': 15245, 'TSC2': 12606, 'TTK': 2685, 'TUBB6': 8776, 'UBE2C': 8534, 'UBE2S': 8391, 'WEE1': 1749, 'WWTR1': 11828, 'YWHAQ': 10524, 'NC': 15245}\n"
     ]
    }
   ],
   "source": [
    "exclude_set = set(np.unique(md_compound.gene_symbol))\n",
    "target_list = sorted(item for item in list(spec_orf_targets) + [\"NC\"] if item not in exclude_set)\n",
    "print(target_list)\n",
    "\n",
    "label_data = md_ko.loc[md_ko.loc[:, label_col].isin(target_list), :]\n",
    "if \"NC\" in target_list:\n",
    "    idc = np.array(list(range(len(label_data)))).reshape(-1, 1)\n",
    "    labels = label_data.loc[:, label_col]\n",
    "    sample_count_dict = dict(Counter(labels))\n",
    "    # sample_count_dict[\"NC\"] = np.max(list(sample_count_dict.values()))\n",
    "    sample_count_dict = {label: min(sample_count_dict[label], 15245) for label in sample_count_dict}\n",
    "    # sample_count_dict[\"NC\"] = min(sample_count_dict[\"NC\"],int(15245/2))\n",
    "    # sample_count_dict[\"NC-K\"] = min(sample_count_dict[\"NC-K\"],int(15245/2))\n",
    "    print(sample_count_dict)\n",
    "    idc, _ = RandomUnderSampler(\n",
    "        sampling_strategy=sample_count_dict, random_state=random_state\n",
    "    ).fit_resample(idc, labels)\n",
    "    label_data = label_data.iloc[idc.flatten(), :]\n",
    "\n",
    "# Split in folds\n",
    "labels = label_data.loc[:, label_col]\n",
    "# labels[labels=='NC-K']='NC'\n",
    "label_data[label_col]=labels\n",
    "\n",
    "features = np.array(list(range(len(label_data)))).reshape(-1, 1)\n",
    "labels = np.array(label_data.loc[:, label_col])\n",
    "groups = np.array(label_data.loc[:, group_col])\n",
    "\n",
    "trainval_index, test_index = next(\n",
    "    StratifiedGroupKFold(n_splits=int(1.0 / test_size)).split(\n",
    "        label_data, labels, groups=groups\n",
    "    )\n",
    ")\n",
    "trainval_data = label_data.iloc[trainval_index]\n",
    "test_data = label_data.iloc[test_index]\n",
    "test_data.to_csv(os.path.join(output_dir, \"nuclei_md_test.csv\"))\n",
    "\n",
    "trainval_labels = labels[trainval_index]\n",
    "trainval_groups = groups[trainval_index]\n",
    "\n",
    "train_index, val_index = next(\n",
    "    StratifiedGroupKFold(n_splits=int((1.0-val_size-test_size) / val_size)).split(\n",
    "        trainval_data, trainval_labels, groups=trainval_groups\n",
    "    )\n",
    ")\n",
    "trainval_data.iloc[train_index].to_csv(os.path.join(output_dir, \"nuclei_md_train.csv\"))\n",
    "trainval_data.iloc[val_index].to_csv(os.path.join(output_dir, \"nuclei_md_val.csv\"))"
   ]
  },
  {
   "cell_type": "code",
   "execution_count": 17,
   "id": "e674df2b",
   "metadata": {},
   "outputs": [
    {
     "data": {
      "text/plain": [
       "98"
      ]
     },
     "execution_count": 17,
     "metadata": {},
     "output_type": "execute_result"
    }
   ],
   "source": [
    "len(set(test_data.gene_symbol))"
   ]
  },
  {
   "cell_type": "code",
   "execution_count": 18,
   "id": "f90b8269",
   "metadata": {},
   "outputs": [
    {
     "data": {
      "text/plain": [
       "<AxesSubplot: xlabel='gene_symbol'>"
      ]
     },
     "execution_count": 18,
     "metadata": {},
     "output_type": "execute_result"
    },
    {
     "data": {
      "image/png": "[encoded data removed]",
      "text/plain": [
       "<Figure size 1600x400 with 1 Axes>"
      ]
     },
     "metadata": {},
     "output_type": "display_data"
    }
   ],
   "source": [
    "test_data.gene_symbol.value_counts().plot(kind=\"bar\", figsize=(16, 4))"
   ]
  },
  {
   "cell_type": "code",
   "execution_count": 19,
   "id": "c588b911",
   "metadata": {},
   "outputs": [
    {
     "data": {
      "text/plain": [
       "762"
      ]
     },
     "execution_count": 19,
     "metadata": {},
     "output_type": "execute_result"
    }
   ],
   "source": [
    "np.sum(test_data.gene_symbol=='NC')"
   ]
  },
  {
   "cell_type": "code",
   "execution_count": 20,
   "id": "53255ffe-9194-45a7-ae0f-3e40b540770a",
   "metadata": {},
   "outputs": [],
   "source": [
    "#save all compounds\n",
    "label_data_compound = md_compound.loc[md_compound.loc[:, label_col].isin(target_list), :]\n",
    "# label_data_compound.to_csv(os.path.join(output_dir, \"nuclei_md_compound.csv\"))"
   ]
  },
  {
   "cell_type": "code",
   "execution_count": 21,
   "id": "f1137ef1-25c6-4c7f-ac94-9bc766c812cb",
   "metadata": {},
   "outputs": [
    {
     "data": {
      "text/plain": [
       "array(['APPBP2', 'AQP1', 'AURKA', 'AURKB', 'BIRC5', 'CCNA2', 'CDK1',\n",
       "       'CDK2', 'CDK6', 'DMSO', 'EEF1A2', 'FGF1', 'FGFR2', 'FGFR3',\n",
       "       'GABRB3', 'GSK3B', 'LGALS1', 'MAP3K2', 'MAP3K5', 'MAP3K9', 'MAPK8',\n",
       "       'PARP2', 'PCNA', 'PDGFRB', 'PLAT', 'PRKACA', 'RARA', 'THRA', 'TK1',\n",
       "       'TLR4', 'TNNC1'], dtype=object)"
      ]
     },
     "execution_count": 21,
     "metadata": {},
     "output_type": "execute_result"
    }
   ],
   "source": [
    "np.unique(md_compound.loc[:, label_col])"
   ]
  },
  {
   "cell_type": "code",
   "execution_count": 22,
   "id": "2636157a-92d7-4825-8e2a-352838e4dcbb",
   "metadata": {},
   "outputs": [
    {
     "data": {
      "text/plain": [
       "array([], dtype=object)"
      ]
     },
     "execution_count": 22,
     "metadata": {},
     "output_type": "execute_result"
    }
   ],
   "source": [
    "np.unique(label_data_compound.gene_symbol)"
   ]
  },
  {
   "cell_type": "code",
   "execution_count": 37,
   "id": "cfcbf684-7b5b-4587-a046-662ee465fab3",
   "metadata": {},
   "outputs": [],
   "source": [
    "label_data_compound_others = md_compound.loc[~md_compound.loc[:, label_col].isin(target_list), :]\n",
    "label_data_compound_others.to_csv(os.path.join(output_dir, \"nuclei_md_compound_others.csv\"))"
   ]
  },
  {
   "cell_type": "code",
   "execution_count": 38,
   "id": "1ffd1cf7-3995-4c50-ae90-da90dff4ff8c",
   "metadata": {},
   "outputs": [
    {
     "data": {
      "text/plain": [
       "array(['APPBP2', 'AQP1', 'FGFR2', 'GABRB3', 'LGALS1', 'PDGFRB', 'PLAT',\n",
       "       'TK1', 'TLR4', 'TNNC1'], dtype=object)"
      ]
     },
     "execution_count": 38,
     "metadata": {},
     "output_type": "execute_result"
    }
   ],
   "source": [
    "np.unique(label_data_compound_others.gene_symbol)"
   ]
  }
 ],
 "metadata": {
  "kernelspec": {
   "display_name": "Python 3 (ipykernel)",
   "language": "python",
   "name": "python3"
  },
  "language_info": {
   "codemirror_mode": {
    "name": "ipython",
    "version": 3
   },
   "file_extension": ".py",
   "mimetype": "text/x-python",
   "name": "python",
   "nbconvert_exporter": "python",
   "pygments_lexer": "ipython3",
   "version": "3.10.8"
  },
  "toc": {
   "base_numbering": 1,
   "nav_menu": {},
   "number_sections": true,
   "sideBar": true,
   "skip_h1_title": false,
   "title_cell": "Table of Contents",
   "title_sidebar": "Contents",
   "toc_cell": false,
   "toc_position": {
    "height": "626.667px",
    "left": "56px",
    "top": "141px",
    "width": "308px"
   },
   "toc_section_display": true,
   "toc_window_display": true
  }
 },
 "nbformat": 4,
 "nbformat_minor": 5
}
