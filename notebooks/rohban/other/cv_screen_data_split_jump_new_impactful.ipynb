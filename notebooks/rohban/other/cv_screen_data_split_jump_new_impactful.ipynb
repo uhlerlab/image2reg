{
 "cells": [
  {
   "cell_type": "markdown",
   "id": "4ee533fa",
   "metadata": {},
   "source": [
    "# Data split for the 4-fold CV\n",
    "\n",
    "---\n",
    "\n",
    "This notebook can be used to generate data splits for the screening data to allow for parallel computing of the screens.\n",
    "\n",
    "---"
   ]
  },
  {
   "cell_type": "markdown",
   "id": "20f2592e",
   "metadata": {},
   "source": [
    "## 0. Environmental setup"
   ]
  },
  {
   "cell_type": "code",
   "execution_count": 22,
   "id": "cc24984d",
   "metadata": {},
   "outputs": [],
   "source": [
    "import pandas as pd\n",
    "import numpy as np\n",
    "from sklearn.model_selection import GroupKFold, GroupShuffleSplit\n",
    "import os\n",
    "from imblearn.under_sampling import RandomUnderSampler\n",
    "from tqdm import tqdm\n",
    "from joblib import Parallel, delayed\n",
    "import yaml"
   ]
  },
  {
   "cell_type": "markdown",
   "id": "982ef064",
   "metadata": {},
   "source": [
    "---\n",
    "## 1. Read in data\n",
    "\n",
    "To start we will read in the whole metadata set."
   ]
  },
  {
   "cell_type": "code",
   "execution_count": 5,
   "id": "edbcce1c-9dd3-4b36-a9a5-29792098cf30",
   "metadata": {},
   "outputs": [],
   "source": [
    "processedDir='/data/xinyi/image2reg/data_new/experiments/jump/images/preprocessing/'"
   ]
  },
  {
   "cell_type": "code",
   "execution_count": 2,
   "id": "2b0ae6ed",
   "metadata": {},
   "outputs": [
    {
     "data": {
      "text/html": [
       "<div>\n",
       "<style scoped>\n",
       "    .dataframe tbody tr th:only-of-type {\n",
       "        vertical-align: middle;\n",
       "    }\n",
       "\n",
       "    .dataframe tbody tr th {\n",
       "        vertical-align: top;\n",
       "    }\n",
       "\n",
       "    .dataframe thead th {\n",
       "        text-align: right;\n",
       "    }\n",
       "</style>\n",
       "<table border=\"1\" class=\"dataframe\">\n",
       "  <thead>\n",
       "    <tr style=\"text-align: right;\">\n",
       "      <th></th>\n",
       "      <th>source</th>\n",
       "      <th>batch</th>\n",
       "      <th>plate</th>\n",
       "      <th>well</th>\n",
       "      <th>site</th>\n",
       "      <th>image_file</th>\n",
       "      <th>gene_symbol</th>\n",
       "      <th>bb_width</th>\n",
       "      <th>bb_height</th>\n",
       "      <th>minor_axis_length</th>\n",
       "      <th>major_axis_length</th>\n",
       "      <th>aspect_ratio</th>\n",
       "      <th>aspect_ratio_cluster</th>\n",
       "      <th>nuclei_count_image</th>\n",
       "      <th>slide_image_name</th>\n",
       "      <th>aspect_ratio_cluster_ratio</th>\n",
       "      <th>centroid_0</th>\n",
       "      <th>centroid_1</th>\n",
       "    </tr>\n",
       "  </thead>\n",
       "  <tbody>\n",
       "    <tr>\n",
       "      <th>0</th>\n",
       "      <td>source_13</td>\n",
       "      <td>20220914_Run1</td>\n",
       "      <td>CP-CC9-R1-03</td>\n",
       "      <td>N22</td>\n",
       "      <td>1</td>\n",
       "      <td>source_13_20220914_Run1_CP-CC9-R1-03_N22_1_ALO...</td>\n",
       "      <td>ALOX5</td>\n",
       "      <td>34</td>\n",
       "      <td>21</td>\n",
       "      <td>18.152311</td>\n",
       "      <td>36.641606</td>\n",
       "      <td>0.495402</td>\n",
       "      <td>0</td>\n",
       "      <td>151</td>\n",
       "      <td>source_13_20220914_Run1_CP-CC9-R1-03_N22_1_ALO...</td>\n",
       "      <td>NaN</td>\n",
       "      <td>29.588694</td>\n",
       "      <td>207.678363</td>\n",
       "    </tr>\n",
       "    <tr>\n",
       "      <th>1</th>\n",
       "      <td>source_13</td>\n",
       "      <td>20220914_Run1</td>\n",
       "      <td>CP-CC9-R1-03</td>\n",
       "      <td>N22</td>\n",
       "      <td>1</td>\n",
       "      <td>source_13_20220914_Run1_CP-CC9-R1-03_N22_1_ALO...</td>\n",
       "      <td>ALOX5</td>\n",
       "      <td>24</td>\n",
       "      <td>32</td>\n",
       "      <td>20.726421</td>\n",
       "      <td>33.983415</td>\n",
       "      <td>0.609898</td>\n",
       "      <td>0</td>\n",
       "      <td>151</td>\n",
       "      <td>source_13_20220914_Run1_CP-CC9-R1-03_N22_1_ALO...</td>\n",
       "      <td>NaN</td>\n",
       "      <td>42.947177</td>\n",
       "      <td>1229.174863</td>\n",
       "    </tr>\n",
       "    <tr>\n",
       "      <th>2</th>\n",
       "      <td>source_13</td>\n",
       "      <td>20220914_Run1</td>\n",
       "      <td>CP-CC9-R1-03</td>\n",
       "      <td>N22</td>\n",
       "      <td>1</td>\n",
       "      <td>source_13_20220914_Run1_CP-CC9-R1-03_N22_1_ALO...</td>\n",
       "      <td>ALOX5</td>\n",
       "      <td>32</td>\n",
       "      <td>39</td>\n",
       "      <td>28.960515</td>\n",
       "      <td>41.599552</td>\n",
       "      <td>0.696174</td>\n",
       "      <td>1</td>\n",
       "      <td>151</td>\n",
       "      <td>source_13_20220914_Run1_CP-CC9-R1-03_N22_1_ALO...</td>\n",
       "      <td>NaN</td>\n",
       "      <td>80.714286</td>\n",
       "      <td>1196.022222</td>\n",
       "    </tr>\n",
       "    <tr>\n",
       "      <th>3</th>\n",
       "      <td>source_13</td>\n",
       "      <td>20220914_Run1</td>\n",
       "      <td>CP-CC9-R1-03</td>\n",
       "      <td>N22</td>\n",
       "      <td>1</td>\n",
       "      <td>source_13_20220914_Run1_CP-CC9-R1-03_N22_1_ALO...</td>\n",
       "      <td>ALOX5</td>\n",
       "      <td>22</td>\n",
       "      <td>35</td>\n",
       "      <td>22.335351</td>\n",
       "      <td>35.301121</td>\n",
       "      <td>0.632709</td>\n",
       "      <td>0</td>\n",
       "      <td>151</td>\n",
       "      <td>source_13_20220914_Run1_CP-CC9-R1-03_N22_1_ALO...</td>\n",
       "      <td>NaN</td>\n",
       "      <td>87.434572</td>\n",
       "      <td>1124.943457</td>\n",
       "    </tr>\n",
       "    <tr>\n",
       "      <th>4</th>\n",
       "      <td>source_13</td>\n",
       "      <td>20220914_Run1</td>\n",
       "      <td>CP-CC9-R1-03</td>\n",
       "      <td>N22</td>\n",
       "      <td>1</td>\n",
       "      <td>source_13_20220914_Run1_CP-CC9-R1-03_N22_1_ALO...</td>\n",
       "      <td>ALOX5</td>\n",
       "      <td>29</td>\n",
       "      <td>52</td>\n",
       "      <td>25.967213</td>\n",
       "      <td>55.164771</td>\n",
       "      <td>0.470721</td>\n",
       "      <td>0</td>\n",
       "      <td>151</td>\n",
       "      <td>source_13_20220914_Run1_CP-CC9-R1-03_N22_1_ALO...</td>\n",
       "      <td>NaN</td>\n",
       "      <td>92.285843</td>\n",
       "      <td>189.496844</td>\n",
       "    </tr>\n",
       "  </tbody>\n",
       "</table>\n",
       "</div>"
      ],
      "text/plain": [
       "      source          batch         plate well  site  \\\n",
       "0  source_13  20220914_Run1  CP-CC9-R1-03  N22     1   \n",
       "1  source_13  20220914_Run1  CP-CC9-R1-03  N22     1   \n",
       "2  source_13  20220914_Run1  CP-CC9-R1-03  N22     1   \n",
       "3  source_13  20220914_Run1  CP-CC9-R1-03  N22     1   \n",
       "4  source_13  20220914_Run1  CP-CC9-R1-03  N22     1   \n",
       "\n",
       "                                          image_file gene_symbol  bb_width  \\\n",
       "0  source_13_20220914_Run1_CP-CC9-R1-03_N22_1_ALO...       ALOX5        34   \n",
       "1  source_13_20220914_Run1_CP-CC9-R1-03_N22_1_ALO...       ALOX5        24   \n",
       "2  source_13_20220914_Run1_CP-CC9-R1-03_N22_1_ALO...       ALOX5        32   \n",
       "3  source_13_20220914_Run1_CP-CC9-R1-03_N22_1_ALO...       ALOX5        22   \n",
       "4  source_13_20220914_Run1_CP-CC9-R1-03_N22_1_ALO...       ALOX5        29   \n",
       "\n",
       "   bb_height  minor_axis_length  major_axis_length  aspect_ratio  \\\n",
       "0         21          18.152311          36.641606      0.495402   \n",
       "1         32          20.726421          33.983415      0.609898   \n",
       "2         39          28.960515          41.599552      0.696174   \n",
       "3         35          22.335351          35.301121      0.632709   \n",
       "4         52          25.967213          55.164771      0.470721   \n",
       "\n",
       "   aspect_ratio_cluster  nuclei_count_image  \\\n",
       "0                     0                 151   \n",
       "1                     0                 151   \n",
       "2                     1                 151   \n",
       "3                     0                 151   \n",
       "4                     0                 151   \n",
       "\n",
       "                                    slide_image_name  \\\n",
       "0  source_13_20220914_Run1_CP-CC9-R1-03_N22_1_ALO...   \n",
       "1  source_13_20220914_Run1_CP-CC9-R1-03_N22_1_ALO...   \n",
       "2  source_13_20220914_Run1_CP-CC9-R1-03_N22_1_ALO...   \n",
       "3  source_13_20220914_Run1_CP-CC9-R1-03_N22_1_ALO...   \n",
       "4  source_13_20220914_Run1_CP-CC9-R1-03_N22_1_ALO...   \n",
       "\n",
       "   aspect_ratio_cluster_ratio  centroid_0   centroid_1  \n",
       "0                         NaN   29.588694   207.678363  \n",
       "1                         NaN   42.947177  1229.174863  \n",
       "2                         NaN   80.714286  1196.022222  \n",
       "3                         NaN   87.434572  1124.943457  \n",
       "4                         NaN   92.285843   189.496844  "
      ]
     },
     "execution_count": 2,
     "metadata": {},
     "output_type": "execute_result"
    }
   ],
   "source": [
    "md = pd.read_csv(\n",
    "    os.path.join(processedDir,\"full_pipeline/20241018_015541/padded_nuclei_metadata_fileExists.csv.gz\"),\n",
    "    index_col=0,\n",
    ")\n",
    "md.head()"
   ]
  },
  {
   "cell_type": "code",
   "execution_count": 3,
   "id": "2cb36d32",
   "metadata": {},
   "outputs": [
    {
     "data": {
      "text/plain": [
       "array(['20220914_Run1', '20221009_Run2', '20221017_Run3', '20221024_Run4',\n",
       "       '20221109_Run5', '20221120_Run6'], dtype=object)"
      ]
     },
     "execution_count": 3,
     "metadata": {},
     "output_type": "execute_result"
    }
   ],
   "source": [
    "batches = np.unique(md.loc[:, \"batch\"])\n",
    "\n",
    "batches"
   ]
  },
  {
   "cell_type": "code",
   "execution_count": 38,
   "id": "a53d432a",
   "metadata": {},
   "outputs": [],
   "source": [
    "output_dir = os.path.join(processedDir,\"screen_splits_impactful\")\n",
    "os.makedirs(output_dir)"
   ]
  },
  {
   "cell_type": "code",
   "execution_count": 39,
   "id": "e34b8cae-c248-41fd-91d5-c1eec0862a6f",
   "metadata": {},
   "outputs": [],
   "source": [
    "label_col = \"gene_symbol\"\n",
    "group_col = \"batch\"\n",
    "n_folds = 5\n",
    "holdout=batches[:5]"
   ]
  },
  {
   "cell_type": "code",
   "execution_count": 67,
   "id": "511f96d3-20f0-4a83-b61b-358eb3993ccc",
   "metadata": {},
   "outputs": [],
   "source": [
    "def get_separation(label):\n",
    "    if label=='NC':\n",
    "        return\n",
    "    label_output_dir = os.path.join(output_dir, label)\n",
    "    if not os.path.exists(label_output_dir):\n",
    "        os.makedirs(label_output_dir)\n",
    "    labelIdx=np.logical_or(labels_all==label,labels_all=='NC')\n",
    "    for k in range(n_folds):\n",
    "        print(k)\n",
    "        testBatch=holdout[k]\n",
    "        testbatchIdx=md.loc[:, 'batch']==testBatch\n",
    "        if np.sum(testbatchIdx)==0:\n",
    "            continue\n",
    "        testIdx=np.logical_and(labelIdx,testbatchIdx)\n",
    "        trainvalIdx=np.logical_and(labelIdx,md.loc[:, 'batch']!=testBatch)\n",
    "        #test\n",
    "        # print('test before subsample: ',np.sum(testIdx))\n",
    "        data_test=md[testIdx]\n",
    "        idc = np.arange(data_test.shape[0]).reshape(-1, 1)\n",
    "        labels = data_test.loc[:, label_col]\n",
    "        if np.unique(labels).size<2:\n",
    "            continue\n",
    "        idc, _ = RandomUnderSampler(\n",
    "            sampling_strategy=\"majority\", random_state=random_state\n",
    "        ).fit_resample(idc, labels)\n",
    "        # print('test after subsample: ',idc.size)\n",
    "        data_test = data_test.iloc[idc.flatten(), :]\n",
    "        data_test.to_csv(os.path.join(label_output_dir, \"nuclei_md_test_fold_{}.csv\".format(k)))\n",
    "        \n",
    "        #train-val\n",
    "        # print('train-val before subsample: ',np.sum(trainvalIdx))\n",
    "        data_trainval=md[trainvalIdx]\n",
    "        idc = np.arange(data_trainval.shape[0]).reshape(-1, 1)\n",
    "        labels = data_trainval.loc[:, label_col]\n",
    "        idc, _ = RandomUnderSampler(\n",
    "            sampling_strategy=\"majority\", random_state=random_state\n",
    "        ).fit_resample(idc, labels)\n",
    "        # print('train-val after subsample: ',idc.size)\n",
    "        data_trainval = data_trainval.iloc[idc.flatten(), :]\n",
    "        labels=np.array(labels)[idc.flatten()]\n",
    "        groups_trainval=data_trainval['slide_image_name']\n",
    "        train_index, val_index = next(\n",
    "            GroupShuffleSplit(\n",
    "                test_size=val_size, n_splits=2, random_state=random_state\n",
    "            ).split(\n",
    "                data_trainval, labels, groups=groups_trainval\n",
    "            )\n",
    "        )\n",
    "        #train\n",
    "        data_train = data_trainval.iloc[train_index]\n",
    "        data_train.to_csv(os.path.join(label_output_dir, \"nuclei_md_train_fold_{}.csv\".format(k)))\n",
    "\n",
    "        #val\n",
    "        data_val = data_trainval.iloc[val_index]\n",
    "        data_val.to_csv(os.path.join(label_output_dir, \"nuclei_md_val_fold_{}.csv\".format(k)))"
   ]
  },
  {
   "cell_type": "code",
   "execution_count": 69,
   "id": "a296c1d5-854f-4ce6-adf2-65807d6c796a",
   "metadata": {
    "scrolled": true
   },
   "outputs": [
    {
     "name": "stderr",
     "output_type": "stream",
     "text": [
      "\n",
      "\n",
      "\n",
      "\n",
      "  0%|                                                                                                         | 0/38 [00:00<?, ?it/s]\u001b[A\u001b[A\u001b[A\u001b[A\n",
      "\n",
      "\n",
      "\n",
      " 26%|█████████████████████████▎                                                                      | 10/38 [00:02<00:07,  3.59it/s]\u001b[A\u001b[A\u001b[A\u001b[A\n",
      "\n",
      "\n",
      "\n",
      " 29%|███████████████████████████▊                                                                    | 11/38 [00:03<00:08,  3.32it/s]\u001b[A\u001b[A\u001b[A\u001b[A\n",
      "\n",
      "\n",
      "\n",
      " 53%|██████████████████████████████████████████████████▌                                             | 20/38 [06:07<07:30, 25.06s/it]\u001b[A\u001b[A\u001b[A\u001b[A\n",
      "\n",
      "\n",
      "\n",
      "100%|████████████████████████████████████████████████████████████████████████████████████████████████| 38/38 [12:06<00:00, 19.12s/it]\u001b[A\u001b[A\u001b[A\u001b[A\n"
     ]
    },
    {
     "name": "stdout",
     "output_type": "stream",
     "text": [
      "0\n",
      "1\n",
      "2\n",
      "3\n",
      "4\n",
      "0\n",
      "1\n",
      "2\n",
      "3\n",
      "4\n",
      "0\n",
      "1\n",
      "2\n",
      "3\n",
      "4\n",
      "0\n",
      "1\n",
      "2\n",
      "3\n",
      "4\n",
      "0\n",
      "1\n",
      "2\n",
      "3\n",
      "4\n",
      "0\n",
      "1\n",
      "2\n",
      "3\n",
      "4\n"
     ]
    },
    {
     "data": {
      "text/plain": [
       "[None,\n",
       " None,\n",
       " None,\n",
       " None,\n",
       " None,\n",
       " None,\n",
       " None,\n",
       " None,\n",
       " None,\n",
       " None,\n",
       " None,\n",
       " None,\n",
       " None,\n",
       " None,\n",
       " None,\n",
       " None,\n",
       " None,\n",
       " None,\n",
       " None,\n",
       " None,\n",
       " None,\n",
       " None,\n",
       " None,\n",
       " None,\n",
       " None,\n",
       " None,\n",
       " None,\n",
       " None,\n",
       " None,\n",
       " None,\n",
       " None,\n",
       " None,\n",
       " None,\n",
       " None,\n",
       " None,\n",
       " None,\n",
       " None,\n",
       " None]"
      ]
     },
     "execution_count": 69,
     "metadata": {},
     "output_type": "execute_result"
    }
   ],
   "source": [
    "val_size=0.2\n",
    "# labels_all =np.copy(md.loc[:, label_col])\n",
    "# labels_all[labels_all=='non-targeting']='NC'\n",
    "# labels_all[labels_all=='no-guide']='NC'\n",
    "# md[label_col]=labels_all\n",
    "# labels=np.unique(labels_all)\n",
    "\n",
    "Parallel(n_jobs=10)(\n",
    "    delayed(get_separation)(label)\n",
    "    for label in tqdm(labels[np.where(labels=='PTN')[0][0]:])\n",
    ")"
   ]
  },
  {
   "cell_type": "code",
   "execution_count": 68,
   "id": "62cc6118-8cb3-4069-82ae-c4ffda821d1f",
   "metadata": {
    "scrolled": true
   },
   "outputs": [
    {
     "name": "stderr",
     "output_type": "stream",
     "text": [
      "\n",
      "\n",
      "\n",
      "\n",
      "  0%|                                                                                                         | 0/39 [00:00<?, ?it/s]\u001b[A\u001b[A\u001b[A\u001b[A"
     ]
    },
    {
     "name": "stdout",
     "output_type": "stream",
     "text": [
      "PTCH1\n",
      "0\n",
      "1\n",
      "2\n",
      "3\n",
      "4\n"
     ]
    },
    {
     "name": "stderr",
     "output_type": "stream",
     "text": [
      "\n",
      "\n",
      "\n",
      "\n",
      "  3%|██▍                                                                                           | 1/39 [04:25<2:48:07, 265.46s/it]\u001b[A\u001b[A\u001b[A\u001b[A"
     ]
    },
    {
     "name": "stdout",
     "output_type": "stream",
     "text": [
      "PTN\n",
      "0\n",
      "1\n",
      "2\n"
     ]
    },
    {
     "name": "stderr",
     "output_type": "stream",
     "text": [
      "  3%|██▍                                                                                           | 1/39 [07:24<4:41:13, 444.05s/it]\n"
     ]
    },
    {
     "ename": "KeyboardInterrupt",
     "evalue": "",
     "output_type": "error",
     "traceback": [
      "\u001b[0;31m---------------------------------------------------------------------------\u001b[0m",
      "\u001b[0;31mKeyboardInterrupt\u001b[0m                         Traceback (most recent call last)",
      "Cell \u001b[0;32mIn[68], line 4\u001b[0m\n\u001b[1;32m      2\u001b[0m \u001b[38;5;28;01mfor\u001b[39;00m label \u001b[38;5;129;01min\u001b[39;00m tqdm(labels[np\u001b[38;5;241m.\u001b[39mwhere(labels\u001b[38;5;241m==\u001b[39m\u001b[38;5;124m'\u001b[39m\u001b[38;5;124mPTCH1\u001b[39m\u001b[38;5;124m'\u001b[39m)[\u001b[38;5;241m0\u001b[39m][\u001b[38;5;241m0\u001b[39m]:]):\n\u001b[1;32m      3\u001b[0m     \u001b[38;5;28mprint\u001b[39m(label)\n\u001b[0;32m----> 4\u001b[0m     \u001b[43mget_separation\u001b[49m\u001b[43m(\u001b[49m\u001b[43mlabel\u001b[49m\u001b[43m)\u001b[49m\n",
      "Cell \u001b[0;32mIn[67], line 37\u001b[0m, in \u001b[0;36mget_separation\u001b[0;34m(label)\u001b[0m\n\u001b[1;32m     33\u001b[0m idc \u001b[38;5;241m=\u001b[39m np\u001b[38;5;241m.\u001b[39marange(data_trainval\u001b[38;5;241m.\u001b[39mshape[\u001b[38;5;241m0\u001b[39m])\u001b[38;5;241m.\u001b[39mreshape(\u001b[38;5;241m-\u001b[39m\u001b[38;5;241m1\u001b[39m, \u001b[38;5;241m1\u001b[39m)\n\u001b[1;32m     34\u001b[0m labels \u001b[38;5;241m=\u001b[39m data_trainval\u001b[38;5;241m.\u001b[39mloc[:, label_col]\n\u001b[1;32m     35\u001b[0m idc, _ \u001b[38;5;241m=\u001b[39m \u001b[43mRandomUnderSampler\u001b[49m\u001b[43m(\u001b[49m\n\u001b[1;32m     36\u001b[0m \u001b[43m    \u001b[49m\u001b[43msampling_strategy\u001b[49m\u001b[38;5;241;43m=\u001b[39;49m\u001b[38;5;124;43m\"\u001b[39;49m\u001b[38;5;124;43mmajority\u001b[39;49m\u001b[38;5;124;43m\"\u001b[39;49m\u001b[43m,\u001b[49m\u001b[43m \u001b[49m\u001b[43mrandom_state\u001b[49m\u001b[38;5;241;43m=\u001b[39;49m\u001b[43mrandom_state\u001b[49m\n\u001b[0;32m---> 37\u001b[0m \u001b[43m\u001b[49m\u001b[43m)\u001b[49m\u001b[38;5;241;43m.\u001b[39;49m\u001b[43mfit_resample\u001b[49m\u001b[43m(\u001b[49m\u001b[43midc\u001b[49m\u001b[43m,\u001b[49m\u001b[43m \u001b[49m\u001b[43mlabels\u001b[49m\u001b[43m)\u001b[49m\n\u001b[1;32m     38\u001b[0m \u001b[38;5;66;03m# print('train-val after subsample: ',idc.size)\u001b[39;00m\n\u001b[1;32m     39\u001b[0m data_trainval \u001b[38;5;241m=\u001b[39m data_trainval\u001b[38;5;241m.\u001b[39miloc[idc\u001b[38;5;241m.\u001b[39mflatten(), :]\n",
      "File \u001b[0;32m~/anaconda3/envs/image2reg/lib/python3.10/site-packages/imblearn/base.py:208\u001b[0m, in \u001b[0;36mBaseSampler.fit_resample\u001b[0;34m(self, X, y)\u001b[0m\n\u001b[1;32m    187\u001b[0m \u001b[38;5;250m\u001b[39m\u001b[38;5;124;03m\"\"\"Resample the dataset.\u001b[39;00m\n\u001b[1;32m    188\u001b[0m \n\u001b[1;32m    189\u001b[0m \u001b[38;5;124;03mParameters\u001b[39;00m\n\u001b[0;32m   (...)\u001b[0m\n\u001b[1;32m    205\u001b[0m \u001b[38;5;124;03m    The corresponding label of `X_resampled`.\u001b[39;00m\n\u001b[1;32m    206\u001b[0m \u001b[38;5;124;03m\"\"\"\u001b[39;00m\n\u001b[1;32m    207\u001b[0m \u001b[38;5;28mself\u001b[39m\u001b[38;5;241m.\u001b[39m_validate_params()\n\u001b[0;32m--> 208\u001b[0m \u001b[38;5;28;01mreturn\u001b[39;00m \u001b[38;5;28;43msuper\u001b[39;49m\u001b[43m(\u001b[49m\u001b[43m)\u001b[49m\u001b[38;5;241;43m.\u001b[39;49m\u001b[43mfit_resample\u001b[49m\u001b[43m(\u001b[49m\u001b[43mX\u001b[49m\u001b[43m,\u001b[49m\u001b[43m \u001b[49m\u001b[43my\u001b[49m\u001b[43m)\u001b[49m\n",
      "File \u001b[0;32m~/anaconda3/envs/image2reg/lib/python3.10/site-packages/imblearn/base.py:108\u001b[0m, in \u001b[0;36mSamplerMixin.fit_resample\u001b[0;34m(self, X, y)\u001b[0m\n\u001b[1;32m    105\u001b[0m arrays_transformer \u001b[38;5;241m=\u001b[39m ArraysTransformer(X, y)\n\u001b[1;32m    106\u001b[0m X, y, binarize_y \u001b[38;5;241m=\u001b[39m \u001b[38;5;28mself\u001b[39m\u001b[38;5;241m.\u001b[39m_check_X_y(X, y)\n\u001b[0;32m--> 108\u001b[0m \u001b[38;5;28mself\u001b[39m\u001b[38;5;241m.\u001b[39msampling_strategy_ \u001b[38;5;241m=\u001b[39m \u001b[43mcheck_sampling_strategy\u001b[49m\u001b[43m(\u001b[49m\n\u001b[1;32m    109\u001b[0m \u001b[43m    \u001b[49m\u001b[38;5;28;43mself\u001b[39;49m\u001b[38;5;241;43m.\u001b[39;49m\u001b[43msampling_strategy\u001b[49m\u001b[43m,\u001b[49m\u001b[43m \u001b[49m\u001b[43my\u001b[49m\u001b[43m,\u001b[49m\u001b[43m \u001b[49m\u001b[38;5;28;43mself\u001b[39;49m\u001b[38;5;241;43m.\u001b[39;49m\u001b[43m_sampling_type\u001b[49m\n\u001b[1;32m    110\u001b[0m \u001b[43m\u001b[49m\u001b[43m)\u001b[49m\n\u001b[1;32m    112\u001b[0m output \u001b[38;5;241m=\u001b[39m \u001b[38;5;28mself\u001b[39m\u001b[38;5;241m.\u001b[39m_fit_resample(X, y)\n\u001b[1;32m    114\u001b[0m y_ \u001b[38;5;241m=\u001b[39m (\n\u001b[1;32m    115\u001b[0m     label_binarize(output[\u001b[38;5;241m1\u001b[39m], classes\u001b[38;5;241m=\u001b[39mnp\u001b[38;5;241m.\u001b[39munique(y)) \u001b[38;5;28;01mif\u001b[39;00m binarize_y \u001b[38;5;28;01melse\u001b[39;00m output[\u001b[38;5;241m1\u001b[39m]\n\u001b[1;32m    116\u001b[0m )\n",
      "File \u001b[0;32m~/anaconda3/envs/image2reg/lib/python3.10/site-packages/imblearn/utils/_validation.py:553\u001b[0m, in \u001b[0;36mcheck_sampling_strategy\u001b[0;34m(sampling_strategy, y, sampling_type, **kwargs)\u001b[0m\n\u001b[1;32m    546\u001b[0m     \u001b[38;5;28;01mif\u001b[39;00m sampling_strategy \u001b[38;5;129;01mnot\u001b[39;00m \u001b[38;5;129;01min\u001b[39;00m SAMPLING_TARGET_KIND\u001b[38;5;241m.\u001b[39mkeys():\n\u001b[1;32m    547\u001b[0m         \u001b[38;5;28;01mraise\u001b[39;00m \u001b[38;5;167;01mValueError\u001b[39;00m(\n\u001b[1;32m    548\u001b[0m             \u001b[38;5;124mf\u001b[39m\u001b[38;5;124m\"\u001b[39m\u001b[38;5;124mWhen \u001b[39m\u001b[38;5;124m'\u001b[39m\u001b[38;5;124msampling_strategy\u001b[39m\u001b[38;5;124m'\u001b[39m\u001b[38;5;124m is a string, it needs\u001b[39m\u001b[38;5;124m\"\u001b[39m\n\u001b[1;32m    549\u001b[0m             \u001b[38;5;124mf\u001b[39m\u001b[38;5;124m\"\u001b[39m\u001b[38;5;124m to be one of \u001b[39m\u001b[38;5;132;01m{\u001b[39;00mSAMPLING_TARGET_KIND\u001b[38;5;132;01m}\u001b[39;00m\u001b[38;5;124m. Got \u001b[39m\u001b[38;5;124m'\u001b[39m\u001b[38;5;132;01m{\u001b[39;00msampling_strategy\u001b[38;5;132;01m}\u001b[39;00m\u001b[38;5;124m'\u001b[39m\u001b[38;5;124m \u001b[39m\u001b[38;5;124m\"\u001b[39m\n\u001b[1;32m    550\u001b[0m             \u001b[38;5;124mf\u001b[39m\u001b[38;5;124m\"\u001b[39m\u001b[38;5;124minstead.\u001b[39m\u001b[38;5;124m\"\u001b[39m\n\u001b[1;32m    551\u001b[0m         )\n\u001b[1;32m    552\u001b[0m     \u001b[38;5;28;01mreturn\u001b[39;00m OrderedDict(\n\u001b[0;32m--> 553\u001b[0m         \u001b[38;5;28msorted\u001b[39m(\u001b[43mSAMPLING_TARGET_KIND\u001b[49m\u001b[43m[\u001b[49m\u001b[43msampling_strategy\u001b[49m\u001b[43m]\u001b[49m\u001b[43m(\u001b[49m\u001b[43my\u001b[49m\u001b[43m,\u001b[49m\u001b[43m \u001b[49m\u001b[43msampling_type\u001b[49m\u001b[43m)\u001b[49m\u001b[38;5;241m.\u001b[39mitems())\n\u001b[1;32m    554\u001b[0m     )\n\u001b[1;32m    555\u001b[0m \u001b[38;5;28;01melif\u001b[39;00m \u001b[38;5;28misinstance\u001b[39m(sampling_strategy, \u001b[38;5;28mdict\u001b[39m):\n\u001b[1;32m    556\u001b[0m     \u001b[38;5;28;01mreturn\u001b[39;00m OrderedDict(\n\u001b[1;32m    557\u001b[0m         \u001b[38;5;28msorted\u001b[39m(_sampling_strategy_dict(sampling_strategy, y, sampling_type)\u001b[38;5;241m.\u001b[39mitems())\n\u001b[1;32m    558\u001b[0m     )\n",
      "File \u001b[0;32m~/anaconda3/envs/image2reg/lib/python3.10/site-packages/imblearn/utils/_validation.py:213\u001b[0m, in \u001b[0;36m_sampling_strategy_majority\u001b[0;34m(y, sampling_type)\u001b[0m\n\u001b[1;32m    209\u001b[0m     \u001b[38;5;28;01mraise\u001b[39;00m \u001b[38;5;167;01mValueError\u001b[39;00m(\n\u001b[1;32m    210\u001b[0m         \u001b[38;5;124m\"\u001b[39m\u001b[38;5;124m'\u001b[39m\u001b[38;5;124msampling_strategy\u001b[39m\u001b[38;5;124m'\u001b[39m\u001b[38;5;124m=\u001b[39m\u001b[38;5;124m'\u001b[39m\u001b[38;5;124mmajority\u001b[39m\u001b[38;5;124m'\u001b[39m\u001b[38;5;124m cannot be used with over-sampler.\u001b[39m\u001b[38;5;124m\"\u001b[39m\n\u001b[1;32m    211\u001b[0m     )\n\u001b[1;32m    212\u001b[0m \u001b[38;5;28;01melif\u001b[39;00m sampling_type \u001b[38;5;241m==\u001b[39m \u001b[38;5;124m\"\u001b[39m\u001b[38;5;124munder-sampling\u001b[39m\u001b[38;5;124m\"\u001b[39m \u001b[38;5;129;01mor\u001b[39;00m sampling_type \u001b[38;5;241m==\u001b[39m \u001b[38;5;124m\"\u001b[39m\u001b[38;5;124mclean-sampling\u001b[39m\u001b[38;5;124m\"\u001b[39m:\n\u001b[0;32m--> 213\u001b[0m     target_stats \u001b[38;5;241m=\u001b[39m \u001b[43m_count_class_sample\u001b[49m\u001b[43m(\u001b[49m\u001b[43my\u001b[49m\u001b[43m)\u001b[49m\n\u001b[1;32m    214\u001b[0m     class_majority \u001b[38;5;241m=\u001b[39m \u001b[38;5;28mmax\u001b[39m(target_stats, key\u001b[38;5;241m=\u001b[39mtarget_stats\u001b[38;5;241m.\u001b[39mget)\n\u001b[1;32m    215\u001b[0m     n_sample_minority \u001b[38;5;241m=\u001b[39m \u001b[38;5;28mmin\u001b[39m(target_stats\u001b[38;5;241m.\u001b[39mvalues())\n",
      "File \u001b[0;32m~/anaconda3/envs/image2reg/lib/python3.10/site-packages/imblearn/utils/_validation.py:147\u001b[0m, in \u001b[0;36m_count_class_sample\u001b[0;34m(y)\u001b[0m\n\u001b[1;32m    146\u001b[0m \u001b[38;5;28;01mdef\u001b[39;00m \u001b[38;5;21m_count_class_sample\u001b[39m(y):\n\u001b[0;32m--> 147\u001b[0m     unique, counts \u001b[38;5;241m=\u001b[39m \u001b[43mnp\u001b[49m\u001b[38;5;241;43m.\u001b[39;49m\u001b[43munique\u001b[49m\u001b[43m(\u001b[49m\u001b[43my\u001b[49m\u001b[43m,\u001b[49m\u001b[43m \u001b[49m\u001b[43mreturn_counts\u001b[49m\u001b[38;5;241;43m=\u001b[39;49m\u001b[38;5;28;43;01mTrue\u001b[39;49;00m\u001b[43m)\u001b[49m\n\u001b[1;32m    148\u001b[0m     \u001b[38;5;28;01mreturn\u001b[39;00m \u001b[38;5;28mdict\u001b[39m(\u001b[38;5;28mzip\u001b[39m(unique, counts))\n",
      "File \u001b[0;32m<__array_function__ internals>:200\u001b[0m, in \u001b[0;36munique\u001b[0;34m(*args, **kwargs)\u001b[0m\n",
      "File \u001b[0;32m~/anaconda3/envs/image2reg/lib/python3.10/site-packages/numpy/lib/arraysetops.py:274\u001b[0m, in \u001b[0;36munique\u001b[0;34m(ar, return_index, return_inverse, return_counts, axis, equal_nan)\u001b[0m\n\u001b[1;32m    272\u001b[0m ar \u001b[38;5;241m=\u001b[39m np\u001b[38;5;241m.\u001b[39masanyarray(ar)\n\u001b[1;32m    273\u001b[0m \u001b[38;5;28;01mif\u001b[39;00m axis \u001b[38;5;129;01mis\u001b[39;00m \u001b[38;5;28;01mNone\u001b[39;00m:\n\u001b[0;32m--> 274\u001b[0m     ret \u001b[38;5;241m=\u001b[39m \u001b[43m_unique1d\u001b[49m\u001b[43m(\u001b[49m\u001b[43mar\u001b[49m\u001b[43m,\u001b[49m\u001b[43m \u001b[49m\u001b[43mreturn_index\u001b[49m\u001b[43m,\u001b[49m\u001b[43m \u001b[49m\u001b[43mreturn_inverse\u001b[49m\u001b[43m,\u001b[49m\u001b[43m \u001b[49m\u001b[43mreturn_counts\u001b[49m\u001b[43m,\u001b[49m\u001b[43m \u001b[49m\n\u001b[1;32m    275\u001b[0m \u001b[43m                    \u001b[49m\u001b[43mequal_nan\u001b[49m\u001b[38;5;241;43m=\u001b[39;49m\u001b[43mequal_nan\u001b[49m\u001b[43m)\u001b[49m\n\u001b[1;32m    276\u001b[0m     \u001b[38;5;28;01mreturn\u001b[39;00m _unpack_tuple(ret)\n\u001b[1;32m    278\u001b[0m \u001b[38;5;66;03m# axis was specified and not None\u001b[39;00m\n",
      "File \u001b[0;32m~/anaconda3/envs/image2reg/lib/python3.10/site-packages/numpy/lib/arraysetops.py:336\u001b[0m, in \u001b[0;36m_unique1d\u001b[0;34m(ar, return_index, return_inverse, return_counts, equal_nan)\u001b[0m\n\u001b[1;32m    334\u001b[0m     aux \u001b[38;5;241m=\u001b[39m ar[perm]\n\u001b[1;32m    335\u001b[0m \u001b[38;5;28;01melse\u001b[39;00m:\n\u001b[0;32m--> 336\u001b[0m     \u001b[43mar\u001b[49m\u001b[38;5;241;43m.\u001b[39;49m\u001b[43msort\u001b[49m\u001b[43m(\u001b[49m\u001b[43m)\u001b[49m\n\u001b[1;32m    337\u001b[0m     aux \u001b[38;5;241m=\u001b[39m ar\n\u001b[1;32m    338\u001b[0m mask \u001b[38;5;241m=\u001b[39m np\u001b[38;5;241m.\u001b[39mempty(aux\u001b[38;5;241m.\u001b[39mshape, dtype\u001b[38;5;241m=\u001b[39mnp\u001b[38;5;241m.\u001b[39mbool_)\n",
      "\u001b[0;31mKeyboardInterrupt\u001b[0m: "
     ]
    }
   ],
   "source": [
    "labels=np.unique(labels_all)\n",
    "for label in tqdm(labels[np.where(labels=='PTCH1')[0][0]:]):\n",
    "    print(label)\n",
    "    get_separation(label)"
   ]
  },
  {
   "cell_type": "code",
   "execution_count": 71,
   "id": "026f68f0-a983-4eea-b3b0-641dde7cf49e",
   "metadata": {},
   "outputs": [
    {
     "data": {
      "text/plain": [
       "'TRAF2'"
      ]
     },
     "execution_count": 71,
     "metadata": {},
     "output_type": "execute_result"
    }
   ],
   "source": [
    "labels[136]"
   ]
  },
  {
   "cell_type": "code",
   "execution_count": 70,
   "id": "5f04d569-3657-43c3-a594-ba79cd5b479c",
   "metadata": {},
   "outputs": [
    {
     "name": "stdout",
     "output_type": "stream",
     "text": [
      "0\n",
      "1\n",
      "2\n",
      "3\n",
      "4\n",
      "0\n",
      "1\n",
      "2\n",
      "3\n",
      "4\n",
      "0\n",
      "1\n",
      "2\n",
      "3\n",
      "4\n",
      "0\n",
      "1\n",
      "2\n",
      "3\n",
      "4\n",
      "0\n",
      "1\n",
      "2\n",
      "3\n",
      "4\n",
      "0\n",
      "1\n",
      "2\n",
      "3\n",
      "4\n",
      "0\n",
      "1\n",
      "2\n",
      "3\n",
      "4\n",
      "0\n",
      "1\n",
      "2\n",
      "3\n",
      "4\n",
      "0\n",
      "1\n",
      "2\n",
      "3\n",
      "4\n",
      "0\n",
      "1\n",
      "2\n",
      "3\n",
      "4\n",
      "0\n",
      "1\n",
      "2\n",
      "3\n",
      "4\n",
      "0\n",
      "1\n",
      "2\n",
      "3\n",
      "4\n",
      "0\n",
      "1\n",
      "2\n",
      "3\n",
      "4\n",
      "0\n",
      "1\n",
      "2\n",
      "3\n",
      "4\n",
      "0\n",
      "1\n",
      "2\n",
      "3\n",
      "4\n",
      "0\n",
      "1\n",
      "2\n",
      "3\n",
      "4\n",
      "0\n",
      "1\n",
      "2\n",
      "3\n",
      "4\n",
      "0\n",
      "1\n",
      "2\n",
      "3\n",
      "4\n",
      "0\n",
      "1\n",
      "2\n",
      "3\n",
      "4\n",
      "0\n",
      "1\n",
      "2\n",
      "3\n",
      "4\n",
      "0\n",
      "1\n",
      "2\n",
      "3\n",
      "4\n",
      "0\n",
      "1\n",
      "2\n",
      "3\n",
      "4\n",
      "0\n",
      "1\n",
      "2\n",
      "3\n",
      "4\n",
      "0\n",
      "1\n",
      "2\n",
      "3\n",
      "4\n",
      "0\n",
      "1\n",
      "2\n",
      "3\n",
      "4\n",
      "0\n",
      "1\n",
      "2\n",
      "3\n",
      "4\n",
      "0\n",
      "1\n",
      "2\n",
      "3\n",
      "4\n",
      "0\n",
      "1\n",
      "2\n",
      "3\n",
      "4\n",
      "0\n",
      "1\n",
      "2\n",
      "3\n",
      "4\n",
      "0\n",
      "1\n",
      "2\n",
      "3\n",
      "4\n",
      "0\n",
      "1\n",
      "2\n",
      "3\n",
      "4\n",
      "0\n",
      "1\n",
      "2\n",
      "3\n",
      "4\n",
      "0\n",
      "1\n",
      "2\n",
      "3\n",
      "4\n"
     ]
    }
   ],
   "source": [
    "# generate yml files for each label\n",
    "config_dir='/home/xinyiz/image2reg/config/image_embedding/screen/jump_ko_impactful/'\n",
    "template_path=os.path.join(config_dir,'train_resnet_ctrl_vs_gene_template.yml')\n",
    "\n",
    "for i in range(n_folds):\n",
    "    print(i)\n",
    "    config_dir_i=os.path.join(config_dir,'fold_'+str(i))\n",
    "    if not os.path.exists(config_dir_i):\n",
    "        os.mkdir(config_dir_i)\n",
    "    for label in labels[np.where(labels=='PTN')[0][0]:]:\n",
    "        if label=='NC':\n",
    "            continue\n",
    "        if not os.path.exists('/data/xinyi/image2reg/data_new/experiments/jump/images/preprocessing/screen_splits_impactful/'+label+'/nuclei_md_test_fold_{}.csv'.format(i)):\n",
    "            continue\n",
    "        with open(template_path, 'r') as file:\n",
    "            template = yaml.safe_load(file)\n",
    "        template['output_dir']=template['output_dir'].format(i)\n",
    "        data_config= template['run_params']['data_config']\n",
    "        data_config['train_nuclei_metadata_file']=data_config['train_nuclei_metadata_file'].format(label,i)\n",
    "        data_config['val_nuclei_metadata_file']=data_config['val_nuclei_metadata_file'].format(label,i)\n",
    "        data_config['test_nuclei_metadata_file']=data_config['test_nuclei_metadata_file'].format(label,i)\n",
    "        template['run_params']['data_config']=data_config\n",
    "        with open(os.path.join(config_dir_i,label+'.yml'), 'w') as file:\n",
    "            yaml.safe_dump(template, file, default_flow_style=False,sort_keys=False)"
   ]
  },
  {
   "cell_type": "markdown",
   "id": "8a2f56a1",
   "metadata": {},
   "source": [
    "---\n",
    "\n",
    "## 2. StratifiedGrouped K-Fold\n",
    "\n",
    "We will now go over each individual gene and add a column to the dataframe that indicates to which fold of the respective gene screen the respective nuclei corresponds to. Thereby, we will ensure that all nuclei from the same slide-image are in the same fold to ensure that the model cannot cheat by focussing on imaging artifacts specific to individual slide images."
   ]
  },
  {
   "cell_type": "code",
   "execution_count": 8,
   "id": "0e1d44fc",
   "metadata": {},
   "outputs": [],
   "source": [
    "output_dir = \"../../../data/experiments/jump/images/preprocessing/specific_targets_cv_stratified/\"\n",
    "os.makedirs(output_dir, exist_ok=True)"
   ]
  },
  {
   "cell_type": "code",
   "execution_count": 9,
   "id": "f2dc58f0",
   "metadata": {},
   "outputs": [],
   "source": [
    "label_col = \"gene_symbol\"\n",
    "group_col = \"slide_image_name\"\n",
    "random_state = 1234\n",
    "n_folds = 4"
   ]
  },
  {
   "cell_type": "code",
   "execution_count": 10,
   "id": "781c0e78",
   "metadata": {},
   "outputs": [
    {
     "name": "stdout",
     "output_type": "stream",
     "text": [
      "['AKT1S1', 'ATF4', 'BAX', 'BCL2L11', 'BRAF', 'CASP8', 'CDC42', 'CDKN1A', 'CEBPA', 'CREB1', 'CXXC4', 'DIABLO', 'E2F1', 'ELK1', 'EMPTY', 'ERG', 'FGFR3', 'FOXO1', 'GLI1', 'HRAS', 'IRAK4', 'JUN', 'MAP2K3', 'MAP3K2', 'MAP3K5', 'MAP3K9', 'MAPK7', 'MOS', 'MYD88', 'PIK3R2', 'PRKACA', 'PRKCE', 'RAF1', 'RELB', 'RHOA', 'SMAD4', 'SMO', 'SRC', 'SREBF1', 'TRAF2', 'TSC2', 'WWTR1']\n",
      "{'CREB1': 4877, 'ELK1': 3369, 'EMPTY': 15378, 'ERG': 3798, 'SMAD4': 3124, 'TSC2': 4552, 'WWTR1': 4497, 'RHOA': 10323, 'BCL2L11': 1823, 'IRAK4': 10581, 'CDKN1A': 7355, 'RAF1': 10351, 'SRC': 9320, 'MAP3K9': 8104, 'FGFR3': 4388, 'PIK3R2': 10434, 'BAX': 5048, 'MYD88': 5623, 'AKT1S1': 6223, 'ATF4': 8957, 'DIABLO': 5349, 'SREBF1': 5237, 'TRAF2': 6571, 'JUN': 5628, 'CASP8': 1029, 'HRAS': 3729, 'PRKACA': 12576, 'PRKCE': 15378, 'RELB': 5361, 'BRAF': 11687, 'MAP3K2': 7477, 'MAP3K5': 8276}\n"
     ]
    }
   ],
   "source": [
    "target_list = sorted(list(spec_orf_targets) + [\"EMPTY\"])\n",
    "print(target_list)\n",
    "fold_data = get_data_splits_for_label(\n",
    "    data=md,\n",
    "    label_col=label_col,\n",
    "    target_list=target_list,\n",
    "    n_folds=n_folds,\n",
    "    group_col=group_col,\n",
    "    random_state=random_state,\n",
    ")\n",
    "for k, v in fold_data.items():\n",
    "    for i in range(len(v)):\n",
    "        fold_label_data = fold_data[k][i].to_csv(\n",
    "            os.path.join(output_dir, \"nuclei_md_{}_fold_{}.csv\".format(k, i))\n",
    "        )"
   ]
  },
  {
   "cell_type": "code",
   "execution_count": 11,
   "id": "e674df2b",
   "metadata": {},
   "outputs": [
    {
     "data": {
      "text/plain": [
       "32"
      ]
     },
     "execution_count": 11,
     "metadata": {},
     "output_type": "execute_result"
    }
   ],
   "source": [
    "len(set(fold_data[\"test\"][0].gene_symbol))"
   ]
  },
  {
   "cell_type": "code",
   "execution_count": 12,
   "id": "f90b8269",
   "metadata": {},
   "outputs": [
    {
     "data": {
      "text/plain": [
       "<AxesSubplot:>"
      ]
     },
     "execution_count": 12,
     "metadata": {},
     "output_type": "execute_result"
    },
    {
     "data": {
      "image/png": "[encoded data removed]",
      "text/plain": [
       "<Figure size 720x288 with 1 Axes>"
      ]
     },
     "metadata": {
      "needs_background": "light"
     },
     "output_type": "display_data"
    }
   ],
   "source": [
    "fold_data[\"test\"][0].gene_symbol.value_counts().plot(kind=\"bar\", figsize=(10, 4))"
   ]
  },
  {
   "cell_type": "code",
   "execution_count": 13,
   "id": "d9ddf45f",
   "metadata": {},
   "outputs": [
    {
     "data": {
      "text/plain": [
       "<AxesSubplot:>"
      ]
     },
     "execution_count": 13,
     "metadata": {},
     "output_type": "execute_result"
    },
    {
     "data": {
      "image/png": "[encoded data removed]",
      "text/plain": [
       "<Figure size 720x288 with 1 Axes>"
      ]
     },
     "metadata": {
      "needs_background": "light"
     },
     "output_type": "display_data"
    }
   ],
   "source": [
    "fold_data[\"test\"][1].gene_symbol.value_counts().plot(kind=\"bar\", figsize=(10, 4))"
   ]
  },
  {
   "cell_type": "code",
   "execution_count": 14,
   "id": "52e35ceb",
   "metadata": {},
   "outputs": [
    {
     "data": {
      "text/plain": [
       "<AxesSubplot:>"
      ]
     },
     "execution_count": 14,
     "metadata": {},
     "output_type": "execute_result"
    },
    {
     "data": {
      "image/png": "[encoded data removed]",
      "text/plain": [
       "<Figure size 720x288 with 1 Axes>"
      ]
     },
     "metadata": {
      "needs_background": "light"
     },
     "output_type": "display_data"
    }
   ],
   "source": [
    "fold_data[\"test\"][2].gene_symbol.value_counts().plot(kind=\"bar\", figsize=(10, 4))"
   ]
  },
  {
   "cell_type": "code",
   "execution_count": 15,
   "id": "9c0a42bd",
   "metadata": {},
   "outputs": [
    {
     "data": {
      "text/plain": [
       "<AxesSubplot:>"
      ]
     },
     "execution_count": 15,
     "metadata": {},
     "output_type": "execute_result"
    },
    {
     "data": {
      "image/png": "[encoded data removed]",
      "text/plain": [
       "<Figure size 720x288 with 1 Axes>"
      ]
     },
     "metadata": {
      "needs_background": "light"
     },
     "output_type": "display_data"
    }
   ],
   "source": [
    "fold_data[\"test\"][3].gene_symbol.value_counts().plot(kind=\"bar\", figsize=(10, 4))"
   ]
  },
  {
   "cell_type": "code",
   "execution_count": null,
   "id": "309db791",
   "metadata": {},
   "outputs": [],
   "source": []
  },
  {
   "cell_type": "code",
   "execution_count": null,
   "id": "c588b911",
   "metadata": {},
   "outputs": [],
   "source": []
  }
 ],
 "metadata": {
  "kernelspec": {
   "display_name": "Python 3 (ipykernel)",
   "language": "python",
   "name": "python3"
  },
  "language_info": {
   "codemirror_mode": {
    "name": "ipython",
    "version": 3
   },
   "file_extension": ".py",
   "mimetype": "text/x-python",
   "name": "python",
   "nbconvert_exporter": "python",
   "pygments_lexer": "ipython3",
   "version": "3.10.8"
  },
  "toc": {
   "base_numbering": 1,
   "nav_menu": {},
   "number_sections": true,
   "sideBar": true,
   "skip_h1_title": false,
   "title_cell": "Table of Contents",
   "title_sidebar": "Contents",
   "toc_cell": false,
   "toc_position": {
    "height": "626.667px",
    "left": "56px",
    "top": "141px",
    "width": "308px"
   },
   "toc_section_display": true,
   "toc_window_display": true
  }
 },
 "nbformat": 4,
 "nbformat_minor": 5
}
